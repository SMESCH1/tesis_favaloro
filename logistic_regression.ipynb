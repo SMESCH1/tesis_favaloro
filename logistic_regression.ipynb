{
  "cells": [
    {
      "cell_type": "code",
      "execution_count": null,
      "metadata": {
        "cellView": "form",
        "colab": {
          "base_uri": "https://localhost:8080/"
        },
        "id": "XXv1EUcVEwEw",
        "outputId": "9a5a00be-cada-418d-c4f8-93f8fe010771"
      },
      "outputs": [],
      "source": [
        "# @title Set up\n",
        "\n",
        "import os\n",
        "import io\n",
        "import glob\n",
        "import json\n",
        "import numpy as np\n",
        "import seaborn as sns\n",
        "import matplotlib.pyplot as plt\n",
        "from scipy.stats import pearsonr\n",
        "import glob\n",
        "import argparse\n",
        "from imblearn.under_sampling import NearMiss\n",
        "from collections import Counter\n",
        "from sklearn.datasets import make_classification\n",
        "from sklearn.dummy import DummyClassifier\n",
        "from sklearn.metrics import make_scorer, accuracy_score, roc_auc_score\n",
        "from sklearn.svm import SVC\n",
        "from sklearn.model_selection import GridSearchCV\n",
        "from sklearn.metrics import confusion_matrix\n",
        "from sklearn.linear_model import LogisticRegression\n",
        "from sklearn.metrics import classification_report, make_scorer, accuracy_score, roc_auc_score\n",
        "from sklearn.model_selection import cross_validate\n",
        "\n",
        "\n",
        "from google.colab import drive, files\n",
        "drive.mount('/content/drive')\n",
        "\n",
        "!pip install pandas==2.0.3\n",
        "!pip install nilearn\n",
        "!pip install mne\n",
        "!pip install -U mne-connectivity\n",
        "\n",
        "import pandas as pd"
      ]
    },
    {
      "cell_type": "code",
      "execution_count": null,
      "metadata": {
        "id": "7eV8S95-E93Q"
      },
      "outputs": [],
      "source": [
        "#@title Data\n",
        "\n",
        "df = pd.read_csv('/content/drive/MyDrive/Favaloro/Tesis/vectores.csv')\n",
        "path_ABIDE = \"/content/drive/MyDrive/Favaloro/Tesis/ABIDE\"\n",
        "coords = pd.read_csv(os.path.join(path_ABIDE, \"rois_coordinates.csv\"))\n",
        "roi_coords = coords[['x', 'y', 'z']].values"
      ]
    },
    {
      "cell_type": "markdown",
      "metadata": {
        "id": "efcBkUuw7H21"
      },
      "source": [
        "### Agregando las ROIs"
      ]
    },
    {
      "cell_type": "code",
      "execution_count": null,
      "metadata": {
        "id": "ThUKLnPV7T2B"
      },
      "outputs": [],
      "source": [
        "# TBD no poner los nombres en español, sino que mantener los nombres originales del atlas\n",
        "\n",
        "\n",
        "\n",
        "\n",
        "roi_labels = np.array([\n",
        "\"Precentral Izq\", \"Precentral Der\", \"Frontal Superior 2 Izq\",\n",
        "\"Frontal Superior 2 Der\", \"Frontal Media 2 Izq\", \"Frontal Media 2 Der\",\n",
        "\"Frontal Inferior Opercular Izq\", \"Frontal Inferior Opercular Der\",\n",
        "\"Frontal Inferior Triangular Izq\", \"Frontal Inferior Triangular Der\",\n",
        "\"Frontal Inferior Orbital 2 Izq\", \"Frontal Inferior Orbital 2 Der\",\n",
        "\"Rolándica Opercular Izq\", \"Rolándica Opercular Der\", \"Área Motora Suplementaria Izq\",\n",
        "\"Área Motora Suplementaria Der\", \"Olfactoria Izq\", \"Olfactoria Der\",\n",
        "\"Frontal Superior Medial Izq\", \"Frontal Superior Medial Der\",\n",
        "\"Frontal Medial Orbital Izq\", \"Frontal Medial Orbital Der\", \"Recto Izq\",\n",
        "\"Recto Der\", \"Corteza Orbitofrontal medial Izq\", \"Corteza Orbitofrontal medial Der\",\n",
        "\"Corteza Orbitofrontal Cantonal Izq\", \"Corteza Orbitofrontal Cantonal Der\",\n",
        "\"Corteza Orbitofrontal Posterior Izq\", \"Corteza Orbitofrontal Posterior Der\",\n",
        "\"Corteza Orbitofrontal Lateral Izq\", \"Corteza Orbitofrontal Lateral Der\",\n",
        "\"Ínsula Izq\", \"Ínsula Der\", \"Cíngulo Anterior Izq\", \"Cíngulo Anterior Der\",\n",
        "\"Cíngulo Medio Izq\", \"Cíngulo Medio Der\", \"Cíngulo Posterior Izq\",\n",
        "\"Cíngulo Posterior Der\", \"Hipocampo Izq\", \"Hipocampo Der\",\n",
        "\"Parahipocampal Izq\", \"Parahipocampal Der\", \"Amígdala Izq\",\n",
        "\"Amígdala Der\", \"Calcarina Izq\", \"Calcarina Der\", \"Cuneus Izq\",\n",
        "\"Cuneus Der\", \"Lingual Izq\", \"Lingual Der\", \"Occipital Superior Izq\",\n",
        "\"Occipital Superior Der\", \"Occipital Medio Izq\", \"Occipital Medio Der\",\n",
        "\"Occipital Inferior Izq\", \"Occipital Inferior Der\", \"Fusiforme Izq\",\n",
        "\"Fusiforme Der\", \"Postcentral Izq\", \"Postcentral Der\",\n",
        "\"Parietal Superior Izq\", \"Parietal Superior Der\", \"Parietal Inferior Izq\",\n",
        "\"Parietal Inferior Der\", \"Supramarginal Izq\", \"Supramarginal Der\",\n",
        "\"Angular Izq\", \"Angular Der\", \"Precuneus Izq\", \"Precuneus Der\",\n",
        "\"Lobulo Paracentral Izq\", \"Lobulo Paracentral Der\", \"Caudado Izq\",\n",
        "\"Caudado Der\", \"Putamen Izq\", \"Putamen Der\", \"Pálido Izq\",\n",
        "\"Pálido Der\", \"Tálamo Izq\", \"Tálamo Der\", \"Heschl Izq\",\n",
        "\"Heschl Der\", \"Temporal Superior Izq\", \"Temporal Superior Der\",\n",
        "\"Polo Temporal Superior Izq\", \"Polo Temporal Superior Der\",\n",
        "\"Temporal Medio Izq\", \"Temporal Medio Der\", \"Polo Temporal Medio Izq\",\n",
        "\"Polo Temporal Medio Der\", \"Temporal Inferior Izq\", \"Temporal Inferior Der\"\n",
        "])\n"
      ]
    },
    {
      "cell_type": "code",
      "execution_count": null,
      "metadata": {
        "colab": {
          "base_uri": "https://localhost:8080/"
        },
        "id": "lw2NkRPH7TzP",
        "outputId": "8bb24ff3-0c40-468b-e8fa-748365c415db"
      },
      "outputs": [],
      "source": [
        "# Construir un diccionario de características (i, j) -> 'ROI_label_i - ROI_label_j'\n",
        "\n",
        "feature_labels = {}\n",
        "k = 0\n",
        "for i in range(len(roi_labels)):\n",
        "    for j in range(i+1, len(roi_labels)):\n",
        "        # Asegúrate de que el formato del nombre coincide exactamente con cómo se forman en df\n",
        "        feature_labels[f'{roi_labels[i]} - {roi_labels[j]}'] = k\n",
        "        k += 1\n",
        "\n",
        "# Verifica que las claves de feature_labels se formen correctamente\n",
        "print(list(feature_labels.keys())[:10])  # Imprime las primeras 10 claves para verificar\n"
      ]
    },
    {
      "cell_type": "markdown",
      "metadata": {
        "id": "gwy6Y6-mSDH0"
      },
      "source": [
        "### Train Test split"
      ]
    },
    {
      "cell_type": "code",
      "execution_count": null,
      "metadata": {
        "id": "064wb4onV3I7"
      },
      "outputs": [],
      "source": [
        "# Invertir el diccionario para mapear de índices a nombres de características\n",
        "inverse_feature_labels = {v: k for k, v in feature_labels.items()}\n",
        "\n",
        "# Ahora inverse_feature_labels es un diccionario donde las claves son índices numéricos y los valores son los nombres de las características\n"
      ]
    },
    {
      "cell_type": "code",
      "execution_count": null,
      "metadata": {
        "id": "F8dOc4U3VV7C"
      },
      "outputs": [],
      "source": [
        "# Crear una lista de los nuevos nombres de las columnas usando el diccionario invertido\n",
        "new_column_names = [inverse_feature_labels[i] for i in range(len(df.columns) - 1)]  # Excluye la última columna\n",
        "new_column_names.append('condicion')  # Añade 'condicion' al final para mantenerla\n",
        "\n",
        "# Asignar los nuevos nombres a las columnas del DataFrame\n",
        "df.columns = new_column_names\n"
      ]
    },
    {
      "cell_type": "code",
      "execution_count": null,
      "metadata": {
        "colab": {
          "base_uri": "https://localhost:8080/"
        },
        "id": "s7RjFHBqWPOR",
        "outputId": "1a98ada3-ff97-43d9-c54b-fb921d44e22d"
      },
      "outputs": [],
      "source": [
        "print(df.columns)\n"
      ]
    },
    {
      "cell_type": "code",
      "execution_count": null,
      "metadata": {
        "id": "6Bs0zGIRE90z"
      },
      "outputs": [],
      "source": [
        "# Por convención\n",
        "# Controles = cero: 0\n",
        "# Autistas = uno: 1\n",
        "\n",
        "df[\"condicion\"] = df[\"condicion\"].replace(\"CONT\", 0)\n",
        "\n",
        "df[\"condicion\"] = df[\"condicion\"].replace(\"AUT\", 1)"
      ]
    },
    {
      "cell_type": "code",
      "execution_count": null,
      "metadata": {
        "colab": {
          "base_uri": "https://localhost:8080/"
        },
        "id": "KONz6Qph5aPu",
        "outputId": "24e495fa-7cff-4045-f6ff-ba629ebeaec5"
      },
      "outputs": [],
      "source": [
        "features = df.drop(['condicion'], axis=1)\n",
        "condicion = df['condicion'].values\n",
        "features.shape"
      ]
    },
    {
      "cell_type": "code",
      "execution_count": null,
      "metadata": {
        "colab": {
          "base_uri": "https://localhost:8080/"
        },
        "id": "-TDwsFwk9tLB",
        "outputId": "46683948-e88b-4699-b025-6dc2d20adce6"
      },
      "outputs": [],
      "source": [
        "# División de los datos en conjuntos de entrenamiento y prueba\n",
        "\n",
        "from sklearn.model_selection import train_test_split\n",
        "\n",
        "\n",
        "X_train, X_test, y_train, y_test = train_test_split(features, condicion, stratify = condicion, test_size=0.25)\n",
        "# Stratify balancea la cantidad de sujetos de cada condicion en la división de os datos\n",
        "\n",
        "print(f'X_train: {X_train.shape}')\n",
        "print(f'X_test: {X_test.shape}')\n",
        "print(f'y_train: {y_train.shape}')\n",
        "print(f'y_test: {y_test.shape}')"
      ]
    },
    {
      "cell_type": "code",
      "execution_count": null,
      "metadata": {
        "colab": {
          "base_uri": "https://localhost:8080/"
        },
        "id": "U5aJ82QWT7AZ",
        "outputId": "0fd63dd9-7544-478d-8d8b-28b9615c7c94"
      },
      "outputs": [],
      "source": [
        "# Porcentaje de autistas en el conjunto de entrenamiento\n",
        "porcentaje_autistas_train = (y_train == 1).sum() / len(y_train) * 100\n",
        "\n",
        "\"\"\"\n",
        "# Porcentaje de autistas en el conjunto de entrenamiento\n",
        "porcentaje_ytrain_res = (y_train == 1).sum() / len(y_train_res) * 100\n",
        "porcentaje_xtrain_res = (y_train == 1).sum() / len(X_train_res) * 100\n",
        "\"\"\"\n",
        "# Porcentaje de controles en el conjunto de entrenamiento\n",
        "porcentaje_controles_train = (y_train == 0).sum() / len(y_train) * 100\n",
        "\n",
        "# Porcentaje de autistas en el conjunto de prueba\n",
        "porcentaje_autistas_test = (y_test == 1).sum() / len(y_test) * 100\n",
        "\n",
        "# Porcentaje de controles en el conjunto de prueba\n",
        "porcentaje_controles_test = (y_test == 0).sum() / len(y_test) * 100\n",
        "\n",
        "\n",
        "\n",
        "print(f'Porcentaje de autistas en el conjunto de entrenamiento: {porcentaje_autistas_train:.2f}%')\n",
        "print(f'Porcentaje de controles en el conjunto de entrenamiento: {porcentaje_controles_train:.2f}%')\n",
        "print(f'Porcentaje de autistas en el conjunto de prueba: {porcentaje_autistas_test:.2f}%')\n",
        "print(f'Porcentaje de controles en el conjunto de prueba: {porcentaje_controles_test:.2f}%')\n",
        "#print(porcentaje_ytrain_res)\n",
        "#print(porcentaje_xtrain_res)\n"
      ]
    },
    {
      "cell_type": "code",
      "execution_count": null,
      "metadata": {
        "id": "VxhiriFsEGKa"
      },
      "outputs": [],
      "source": [
        "# Dataframe para los distintos modelos\n",
        "columns = ['Model Type', 'Hyperparameters', 'Accuracy', 'AUC', 'Precision Class 0', 'Precision Class 1', 'Recall Class 0', 'Recall Class 1', 'F1-Score Class 0', 'F1-Score Class 1', 'Coefficients', 'Probabilities']\n",
        "results_df = pd.DataFrame(columns=columns)"
      ]
    },
    {
      "cell_type": "code",
      "execution_count": null,
      "metadata": {
        "id": "beKpo4C7Jw6F"
      },
      "outputs": [],
      "source": [
        "# Función para agregar modelos al dataframe\n",
        "def add_model_results(results_df, model, report, accuracy, auc):\n",
        "    precision_0 = report['0']['precision']\n",
        "    precision_1 = report['1']['precision']\n",
        "    recall_0 = report['0']['recall']\n",
        "    recall_1 = report['1']['recall']\n",
        "    f1_0 = report['0']['f1-score']\n",
        "    f1_1 = report['1']['f1-score']\n",
        "\n",
        "    # Asumimos que el modelo puede predecir probabilidades y tiene coeficientes\n",
        "    coefs = [model.coef_.ravel()]\n",
        "    probabilities = model.predict_proba(X_test)  # Asegúrate de que X_test esté definido en tu contexto\n",
        "\n",
        "    # Extraer hiperparámetros directamente del modelo\n",
        "    hyperparams = model.get_params()\n",
        "\n",
        "    # Construir un diccionario con la información del modelo\n",
        "    model_info = pd.DataFrame({\n",
        "        'Model Type': [type(model).__name__],\n",
        "        'Hyperparameters': [str(hyperparams)],\n",
        "        'Accuracy': [accuracy],\n",
        "        'AUC': [auc],\n",
        "        'Precision Class 0': [precision_0],\n",
        "        'Precision Class 1': [precision_1],\n",
        "        'Recall Class 0': [recall_0],\n",
        "        'Recall Class 1': [recall_1],\n",
        "        'F1-Score Class 0': [f1_0],\n",
        "        'F1-Score Class 1': [f1_1],\n",
        "        'Coefficients': [coefs],\n",
        "        'Probabilities': [probabilities.tolist()]\n",
        "    })\n",
        "\n",
        "    # Utilizar pd.concat para añadir la información del nuevo modelo al DataFrame existente\n",
        "    results_df = pd.concat([results_df, model_info], ignore_index=True)\n",
        "    return results_df\n",
        "\n",
        "\n",
        "# ejemplo para llamar a la funcion\n",
        "# results_df = add_model_results(results_df, best_model, report, cv_results['test_accuracy'][best_index], cv_results['test_AUC'].mean(), hyperparams, coefs_array, probabilities)"
      ]
    },
    {
      "cell_type": "markdown",
      "metadata": {
        "id": "4mwoB4mDSW9D"
      },
      "source": [
        "### CV strategy"
      ]
    },
    {
      "cell_type": "code",
      "execution_count": null,
      "metadata": {
        "id": "4dAu8jsijvxd"
      },
      "outputs": [],
      "source": [
        "from sklearn.model_selection import StratifiedShuffleSplit\n",
        "\n",
        "#from sklearn.model_selection import ShuffleSplit\n",
        "\n",
        "#cv_generator = ShuffleSplit(n_splits=100, test_size=0.3, random_state=42)\n",
        "cv_generator = StratifiedShuffleSplit(n_splits=100, test_size=0.3, random_state=42)"
      ]
    },
    {
      "cell_type": "markdown",
      "metadata": {
        "id": "tgvPOkdw-B0j"
      },
      "source": [
        "### Dummy"
      ]
    },
    {
      "cell_type": "code",
      "execution_count": null,
      "metadata": {
        "colab": {
          "base_uri": "https://localhost:8080/"
        },
        "id": "iEMLyc9KE9sC",
        "outputId": "2854edc9-a1fd-4b27-a7f9-737f0166b728"
      },
      "outputs": [],
      "source": [
        "from sklearn.dummy import DummyClassifier\n",
        "dummy_clf = DummyClassifier(strategy=\"stratified\")\n",
        "\n",
        "dummy_clf.fit(X_train, y_train)\n",
        "y_pred = dummy_clf.predict(X_test)\n",
        "\n",
        "baseline_accuracy = dummy_clf.score(X_test, y_test)\n",
        "print(f\"Baseline accuracy: {baseline_accuracy}\")"
      ]
    },
    {
      "cell_type": "code",
      "execution_count": null,
      "metadata": {
        "colab": {
          "base_uri": "https://localhost:8080/",
          "height": 484
        },
        "id": "4GZl4IdZE9pW",
        "outputId": "3ba147ef-c765-49fa-f6cc-fef0e76e1c3a"
      },
      "outputs": [],
      "source": [
        "conf_mat = confusion_matrix(y_test, y_pred)\n",
        "print(conf_mat)\n",
        "sns.heatmap(conf_mat, annot = True, fmt = 'd', cmap= 'Blues')\n",
        "plt.xlabel('Predicciones del modelo')\n",
        "plt.ylabel('Condición real')\n",
        "plt.show()"
      ]
    },
    {
      "cell_type": "markdown",
      "metadata": {
        "id": "RC6WRROo-gyl"
      },
      "source": [
        "# Logistic Regression with Stratified Shuffle Split"
      ]
    },
    {
      "cell_type": "code",
      "execution_count": null,
      "metadata": {
        "id": "jaSHsPHsjDMV"
      },
      "outputs": [],
      "source": [
        "# este sería el codigo para estandarizar los datos, que se supone crucial para poder interpretar correctamente los valores de coefs\n",
        "# ver de aplicarlo y comparar rendimiento\n",
        "\n",
        "# from sklearn.linear_model import LogisticRegression\n",
        "# from sklearn.model_selection import cross_validate, StratifiedKFold\n",
        "# from sklearn.metrics import accuracy_score, make_scorer, roc_auc_score, classification_report\n",
        "# from sklearn.pipeline import Pipeline\n",
        "# from sklearn.preprocessing import StandardScaler\n",
        "# import pandas as pd\n",
        "# import numpy as np\n",
        "\n",
        "# # Definir el modelo con los hiperparámetros elegidos\n",
        "# LR = LogisticRegression(C=0.1, max_iter=1000, solver='newton-cg')\n",
        "\n",
        "# # Crear un pipeline que incluya estandarización y el modelo\n",
        "# pipeline = Pipeline([\n",
        "#     ('scaler', StandardScaler()),\n",
        "#     ('logreg', LR)\n",
        "# ])\n",
        "\n",
        "# # Definir las métricas para la validación cruzada\n",
        "# scoring = {\n",
        "#     'accuracy': make_scorer(accuracy_score),\n",
        "#     'AUC': 'roc_auc'\n",
        "# }\n",
        "\n",
        "# # Crear el generador de pliegues para la validación cruzada\n",
        "# cv_generator = StratifiedKFold(n_splits=10, shuffle=True, random_state=42)\n",
        "\n",
        "# # Realizar la validación cruzada y guardar los estimadores\n",
        "# cv_results = cross_validate(pipeline, X_train, y_train, scoring=scoring, cv=cv_generator, n_jobs=1, verbose=1, return_train_score=True, return_estimator=True)\n",
        "\n",
        "# coefs = []\n",
        "\n",
        "# # Iterar a través de los estimadores y extraer los coeficientes\n",
        "# for estimator in cv_results['estimator']:\n",
        "#     coefs.append(estimator.named_steps['logreg'].coef_.ravel())\n",
        "\n",
        "# coefs_array = np.array(coefs)\n",
        "\n",
        "# # Crear un DataFrame para los coeficientes y guardarlos en un archivo Excel\n",
        "# coefs_df = pd.DataFrame(coefs_array)\n",
        "# coefs_df.to_excel('coeficientes_cv.xlsx', index=False)\n",
        "\n",
        "# # Imprimir la precisión promedio y las puntuaciones AUC de la validación cruzada\n",
        "# print(f\"Average Accuracy: {cv_results['test_accuracy'].mean()}\")\n",
        "# print(f\"Average AUC: {cv_results['test_AUC'].mean()}\")\n",
        "\n",
        "# # Encontrar el índice del mejor modelo\n",
        "# best_index = np.argmax(cv_results['test_accuracy'])\n",
        "\n",
        "# # Seleccionar el mejor modelo\n",
        "# best_model = cv_results['estimator'][best_index]\n",
        "\n",
        "# # Aplicar predict_proba en el conjunto de prueba\n",
        "# probabilities = best_model.predict_proba(X_test)\n",
        "\n",
        "# # Predecir las etiquetas del conjunto de prueba\n",
        "# y_pred = best_model.predict(X_test)\n",
        "\n",
        "# # Generar el informe de clasificación\n",
        "# report = classification_report(y_test, y_pred, output_dict=True)\n",
        "\n",
        "# # Resultados\n",
        "# result = {\n",
        "#     'Model': best_model,\n",
        "#     'Accuracy': cv_results['test_accuracy'][best_index],\n",
        "#     'Classification Report': report,\n",
        "#     'Predictions Probabilities': probabilities\n",
        "# }\n",
        "\n",
        "# print(\"Model:\", result['Model'])\n",
        "# print(\"Accuracy:\", result['Accuracy'])\n",
        "# print(\"Classification Report:\", result['Classification Report'])\n"
      ]
    },
    {
      "cell_type": "code",
      "execution_count": null,
      "metadata": {
        "colab": {
          "base_uri": "https://localhost:8080/"
        },
        "id": "cAUoWbie-mJu",
        "outputId": "9f90a4f7-5f4f-4681-e092-a5b1e693e043"
      },
      "outputs": [],
      "source": [
        "from sklearn.linear_model import LogisticRegression\n",
        "from sklearn.model_selection import cross_validate\n",
        "from sklearn.metrics import accuracy_score, make_scorer, roc_auc_score\n",
        "from sklearn.metrics import classification_report\n",
        "\n",
        "# Modelo LR con hiperparametros elegidos en base a pruebas anteriores\n",
        "\n",
        "LR = LogisticRegression(C=0.1, max_iter=1000, solver='newton-cg')\n",
        "\n",
        "# Métricas para la CV\n",
        "scoring = {\n",
        "    'accuracy': make_scorer(accuracy_score),\n",
        "    'AUC': 'roc_auc'\n",
        "}\n",
        "\n",
        "# Se realiza CV y se guardan los estimadores\n",
        "cv_results = cross_validate(LR, X_train, y_train, scoring=scoring, cv=cv_generator, n_jobs=1, verbose=1, return_train_score=True, return_estimator=True)\n",
        "\n",
        "\n",
        "coefs = []\n",
        "\n",
        "# Iterar a través de los estimadores y extraer los coeficientes\n",
        "for estimator in cv_results['estimator']:\n",
        "    coefs.append(estimator.coef_.ravel())\n",
        "\n",
        "coefs_array = np.array(coefs)\n",
        "\n",
        "# Transpose the array so that each column represents a set of coefficients from one iteration of CV\n",
        "# coefs_array = coefs_array.T\n",
        "\n",
        "coefs_df = pd.DataFrame(coefs_array)\n",
        "coefs_df.to_excel('coeficientes_cv.xlsx', index=False)\n",
        "\n",
        "# Print the average accuracy and AUC scores from cross-validation\n",
        "print(f\"Average Accuracy: {cv_results['test_accuracy'].mean()}\")\n",
        "print(f\"Average AUC: {cv_results['test_AUC'].mean()}\")\n",
        "\n",
        "\n",
        "# Encontrar el índice del mejor modelo\n",
        "best_index = np.argmax(cv_results['test_accuracy'])\n",
        "\n",
        "# Seleccionar el mejor modelo\n",
        "best_model = cv_results['estimator'][best_index]\n",
        "\n",
        "# Aplicar predict_proba en el conjunto de prueba\n",
        "probabilities = best_model.predict_proba(X_test)\n",
        "\n",
        "# Predice las etiquetas del conjunto de prueba\n",
        "y_pred = best_model.predict(X_test)\n",
        "\n",
        "\n",
        "# Informe de clasificación\n",
        "report = classification_report(y_test, y_pred, output_dict=True)\n",
        "\n",
        "# Resultados\n",
        "result = {\n",
        "    'Model': best_model,\n",
        "    'Accuracy': cv_results['test_accuracy'][best_index],\n",
        "    'Classification Report': report,\n",
        "    'Predictions Probabilities': probabilities\n",
        "}\n",
        "\n",
        "print(\"Model:\", result['Model'])\n",
        "print(\"Accuracy:\", result['Accuracy'])\n",
        "print(\"Classification Report:\", result['Classification Report'])\n",
        "\n",
        "\n",
        "# print(result)\n"
      ]
    },
    {
      "cell_type": "code",
      "execution_count": null,
      "metadata": {
        "colab": {
          "base_uri": "https://localhost:8080/",
          "height": 484
        },
        "id": "RvL_MWGT-mJv",
        "outputId": "19eb4121-29f2-43b7-90cd-78071be26c6e"
      },
      "outputs": [],
      "source": [
        "# Matriz de confusión con las predicciónes del mejor modelo obtenido\n",
        "conf_mat = confusion_matrix(y_test, y_pred)\n",
        "print(conf_mat)\n",
        "sns.heatmap(conf_mat, annot = True, fmt = 'd', cmap= 'Blues')\n",
        "plt.xlabel('Predicciones del modelo')\n",
        "plt.ylabel('Condición real')\n",
        "plt.show()"
      ]
    },
    {
      "cell_type": "code",
      "execution_count": null,
      "metadata": {
        "colab": {
          "base_uri": "https://localhost:8080/",
          "height": 472
        },
        "id": "yqAk7pUL-mJv",
        "outputId": "c715033a-c0e0-444a-93a0-5a5f238a09d5"
      },
      "outputs": [],
      "source": [
        "from sklearn.metrics import roc_curve, auc\n",
        "\n",
        "y_score = probabilities[:, 1]\n",
        "\n",
        "# Calcular los valores de tasa de verdaderos positivos (TPR), tasa de falsos positivos (FPR) y los umbrales\n",
        "fpr, tpr, thresholds = roc_curve(y_test, y_score)\n",
        "\n",
        "# Calcular el área bajo la curva ROC (AUC)\n",
        "roc_auc = auc(fpr, tpr)\n",
        "\n",
        "# Graficar la curva ROC\n",
        "plt.figure()\n",
        "plt.plot(fpr, tpr, color='darkorange', lw=2, label='ROC curve (area = %0.2f)' % roc_auc)\n",
        "plt.plot([0, 1], [0, 1], color='navy', lw=2, linestyle='--')\n",
        "plt.xlim([0.0, 1.0])\n",
        "plt.ylim([0.0, 1.05])\n",
        "plt.xlabel('False Positive Rate')\n",
        "plt.ylabel('True Positive Rate')\n",
        "plt.title('Receiver Operating Characteristic')\n",
        "plt.legend(loc=\"lower right\")\n",
        "plt.show()"
      ]
    },
    {
      "cell_type": "code",
      "execution_count": null,
      "metadata": {
        "id": "GUSCoKtTMR_S"
      },
      "outputs": [],
      "source": [
        "results_df = add_model_results(results_df, best_model, report, cv_results['test_accuracy'][best_index], cv_results['test_AUC'].mean())"
      ]
    },
    {
      "cell_type": "code",
      "execution_count": null,
      "metadata": {
        "colab": {
          "base_uri": "https://localhost:8080/"
        },
        "id": "B-fqC_yGEohu",
        "outputId": "3374aad7-37d4-4a84-8d66-5cb1f4a66130"
      },
      "outputs": [],
      "source": [
        "print(results_df.head())"
      ]
    },
    {
      "cell_type": "code",
      "execution_count": null,
      "metadata": {
        "id": "doubewQy3CSo"
      },
      "outputs": [],
      "source": [
        "results_df.to_csv('results_1', index=False)"
      ]
    },
    {
      "cell_type": "code",
      "execution_count": null,
      "metadata": {
        "colab": {
          "base_uri": "https://localhost:8080/",
          "height": 17
        },
        "id": "cCE7Vty2XiSk",
        "outputId": "0862e6aa-e96c-4aac-91d7-e4443fe313a7"
      },
      "outputs": [],
      "source": [
        "# Copiar nombres de columnas desde `df` excluyendo 'condicion' si es aplicable\n",
        "coefs_df.columns = df.columns[:-1]  # Excluye 'condicion' si `df` incluye esta columna\n",
        "coefs_df.to_csv('coefs_1.csv', index=False)\n",
        "\n",
        "# Descargar el archivo\n",
        "files.download('coefs_1.csv')"
      ]
    },
    {
      "cell_type": "code",
      "execution_count": null,
      "metadata": {
        "colab": {
          "base_uri": "https://localhost:8080/",
          "height": 377
        },
        "id": "Q9A32LeOfoOS",
        "outputId": "3172eb9f-3d96-46c7-81f2-ad019ed19b20"
      },
      "outputs": [],
      "source": [
        "coefs_df.head()"
      ]
    },
    {
      "cell_type": "code",
      "execution_count": null,
      "metadata": {
        "colab": {
          "base_uri": "https://localhost:8080/",
          "height": 451
        },
        "id": "YyHPMLwbHkPH",
        "outputId": "8a567be9-154c-4cef-f950-44165f15da10"
      },
      "outputs": [],
      "source": [
        "# https://forecastegy.com/posts/feature-importance-in-logistic-regression/\n",
        "# Convertir la lista de coeficientes en una matriz\n",
        "coefs_matrix = np.array(coefs_df)\n",
        "\n",
        "# Calcular la mediana para cada columna\n",
        "median_coefs = np.median(coefs_matrix, axis=0)\n",
        "\n",
        "# Los coeficientes representan el cambio en el logaritmo de odds por un incremento unitario en la característica correspondiente,\n",
        "# y por lo tanto, su magnitud (ignorando el signo) puede interpretarse como la \"importancia\" de la característica en la predicción del modelo.\n",
        "# Cuando las características están estandarizadas, la magnitud de los coeficientes en la regresión logística refleja directamente la importancia de cada característica.\n",
        "# en base a lo anterior, tendría sentido tambien analizar las tail(10), entendiendolas como las que menos importancia tienen?\n",
        "#(seria que esas tambien representan hipoactivacion?)\n",
        "\n",
        "# Crear DataFrame de importancias\n",
        "feature_importances = pd.DataFrame({\n",
        "    'Feature': coefs_df.columns,  # TBD corroborar que realmente se mantenga el orden original\n",
        "    'Importance': np.abs(median_coefs)\n",
        "})\n",
        "\n",
        "# Ordenar las características por importancia\n",
        "sorted_feature_importances = feature_importances.sort_values(by='Importance', ascending=False)\n",
        "# Extraer las 10 características más importantes con sus importancias\n",
        "top_10_features = sorted_feature_importances.head(10)\n",
        "\n",
        "\n",
        "top_10_features.to_csv('top_10_features_1.csv', index=False)\n",
        "files.download('top_10_features_1.csv')\n",
        "\n",
        "# Visualizar las importancias ordenadas\n",
        "print(sorted_feature_importances)\n",
        "print(top_10_features)"
      ]
    },
    {
      "cell_type": "code",
      "execution_count": null,
      "metadata": {
        "colab": {
          "base_uri": "https://localhost:8080/",
          "height": 805
        },
        "id": "_WUf4vkAFx_P",
        "outputId": "1816b7b0-84c3-4e25-d277-b43d4fc8babc"
      },
      "outputs": [],
      "source": [
        "# Configurar el tamaño y estilo del gráfico\n",
        "plt.figure(figsize=(10, 8))\n",
        "sns.barplot(x='Importance', y='Feature', data=top_10_features, palette='viridis')\n",
        "\n",
        "# Títulos y etiquetas\n",
        "plt.title('Top 10 Most Important Features')\n",
        "plt.xlabel('Importance (Median Absolute Coefficient)')\n",
        "plt.ylabel('Features')\n",
        "\n",
        "# Mostrar el gráfico\n",
        "plt.show()"
      ]
    },
    {
      "cell_type": "code",
      "execution_count": null,
      "metadata": {
        "colab": {
          "base_uri": "https://localhost:8080/",
          "height": 1000
        },
        "id": "5Duk09EpIBxe",
        "outputId": "4cfc6d02-5a7b-481d-82e8-fc41fb41c6f5"
      },
      "outputs": [],
      "source": [
        "plt.figure(figsize=(15, 20))\n",
        "\n",
        "for i, feature in enumerate(top_10_features['Feature']):\n",
        "    plt.subplot(5, 2, i + 1)\n",
        "    # Filtrar los datos para autistas y controles para la característica actual\n",
        "    autistas = df[df['condicion'] == 1][feature]\n",
        "    controles = df[df['condicion'] == 0][feature]\n",
        "\n",
        "    # Graficar la distribución de los autistas\n",
        "    sns.kdeplot(autistas, label='Autistas', color='red', fill=True)\n",
        "    # Graficar la distribución de los controles\n",
        "    sns.kdeplot(controles, label='Controles', color='blue', fill=True)\n",
        "\n",
        "    # Configuraciones del título y leyenda del gráfico\n",
        "    plt.title(f'Distribución de {feature}')\n",
        "    plt.xlabel('Valor')\n",
        "    plt.ylabel('Densidad')\n",
        "    plt.legend()\n",
        "\n",
        "plt.tight_layout()\n",
        "plt.show()\n"
      ]
    },
    {
      "cell_type": "code",
      "execution_count": null,
      "metadata": {
        "colab": {
          "base_uri": "https://localhost:8080/",
          "height": 1000
        },
        "id": "Y3UW2scFSLdl",
        "outputId": "e2af905e-668e-4151-aa98-ed600ffdeede"
      },
      "outputs": [],
      "source": [
        "import matplotlib.pyplot as plt\n",
        "import seaborn as sns\n",
        "\n",
        "plt.figure(figsize=(15, 20))\n",
        "\n",
        "for i, feature in enumerate(top_10_features['Feature']):\n",
        "    plt.subplot(5, 2, i + 1)\n",
        "\n",
        "    autistas = df[df['condicion'] == 1][feature]\n",
        "    controles = df[df['condicion'] == 0][feature]\n",
        "\n",
        "    sns.kdeplot(autistas, color='red', fill=True)\n",
        "    sns.kdeplot(controles, color='blue', fill=True)\n",
        "\n",
        "    # Quita los bordes del gráfico\n",
        "    sns.despine(left=True, bottom=True)\n",
        "\n",
        "    # Elimina los ticks de los ejes\n",
        "    plt.xticks([])\n",
        "    plt.yticks([])\n",
        "\n",
        "    # Sin título ni etiquetas de eje\n",
        "    # plt.title(feature)  # Omitido para no incluir títulos\n",
        "    # plt.xlabel(feature)  # Omitido para no incluir etiquetas en el eje X\n",
        "\n",
        "plt.tight_layout()\n",
        "plt.show()\n",
        "\n",
        "\n",
        "# Guardar la imagen con fondo transparente\n",
        "plt.savefig('distr_1.png', transparent=True)\n",
        "\n",
        "# Descargar la imagen a tu computadora\n",
        "files.download('distr_1.png')"
      ]
    },
    {
      "cell_type": "code",
      "execution_count": null,
      "metadata": {
        "id": "vZbrI0pu7TEf"
      },
      "outputs": [],
      "source": [
        "### LO ANTERIOR TODO CORRECTO TODO LEGAL"
      ]
    },
    {
      "cell_type": "markdown",
      "metadata": {
        "id": "fAPmSLd49E77"
      },
      "source": [
        "# Logistic Regression with SMOTE"
      ]
    },
    {
      "cell_type": "code",
      "execution_count": null,
      "metadata": {
        "id": "L-Q632CZgziG"
      },
      "outputs": [],
      "source": []
    },
    {
      "cell_type": "code",
      "execution_count": null,
      "metadata": {
        "colab": {
          "base_uri": "https://localhost:8080/"
        },
        "id": "dqnpQpjfRwpu",
        "outputId": "6e5df3a1-ee66-44ab-be2a-536aa7d415bc"
      },
      "outputs": [],
      "source": [
        "from imblearn.over_sampling import SMOTE\n",
        "\n",
        "sm = SMOTE(random_state=42)\n",
        "X_train_res, y_train_res = sm.fit_resample(X_train, y_train)\n",
        "\n",
        "# Verificar la distribución de las clases después del resampling\n",
        "print(np.bincount(y_train_res))"
      ]
    },
    {
      "cell_type": "code",
      "execution_count": null,
      "metadata": {
        "colab": {
          "base_uri": "https://localhost:8080/"
        },
        "id": "QwwCZqHZSIU4",
        "outputId": "e280be84-429a-402b-b431-c8ea293612f3"
      },
      "outputs": [],
      "source": [
        "from collections import Counter\n",
        "\n",
        "\n",
        "print(\"Distribución original de clases: {}\".format(Counter(y_train)))\n",
        "\n",
        "print(\"Distribución después del resampling: {}\".format(Counter(y_train_res)))\n"
      ]
    },
    {
      "cell_type": "markdown",
      "metadata": {
        "id": "PPzMOIpJSs7t"
      },
      "source": [
        "Dummy"
      ]
    },
    {
      "cell_type": "code",
      "execution_count": null,
      "metadata": {
        "colab": {
          "base_uri": "https://localhost:8080/"
        },
        "id": "9p5jHfbrE9m4",
        "outputId": "e887b36e-d12d-49da-cb84-2dacf624eb41"
      },
      "outputs": [],
      "source": [
        "from sklearn.dummy import DummyClassifier\n",
        "dummy_clf = DummyClassifier(strategy=\"stratified\")\n",
        "\n",
        "dummy_clf.fit(X_train_res, y_train_res)\n",
        "y_pred = dummy_clf.predict(X_test)\n",
        "\n",
        "baseline_accuracy = dummy_clf.score(X_test, y_test)\n",
        "print(f\"Baseline accuracy: {baseline_accuracy}\")"
      ]
    },
    {
      "cell_type": "code",
      "execution_count": null,
      "metadata": {
        "colab": {
          "base_uri": "https://localhost:8080/",
          "height": 484
        },
        "id": "abxXL7IdOj9V",
        "outputId": "0169b50d-a2dd-49ab-c69a-5be9f5780047"
      },
      "outputs": [],
      "source": [
        "conf_mat = confusion_matrix(y_test, y_pred)\n",
        "print(conf_mat)\n",
        "sns.heatmap(conf_mat, annot = True, fmt = 'd', cmap= 'Blues')\n",
        "plt.xlabel('Predicciones del modelo')\n",
        "plt.ylabel('Condición real')\n",
        "plt.show()"
      ]
    },
    {
      "cell_type": "code",
      "execution_count": null,
      "metadata": {
        "id": "RT4r_QGtgzey"
      },
      "outputs": [],
      "source": []
    },
    {
      "cell_type": "code",
      "execution_count": null,
      "metadata": {
        "id": "1RnMvdwMgzb2"
      },
      "outputs": [],
      "source": []
    },
    {
      "cell_type": "code",
      "execution_count": null,
      "metadata": {
        "id": "pAnci6XngzX1"
      },
      "outputs": [],
      "source": []
    },
    {
      "cell_type": "code",
      "execution_count": null,
      "metadata": {
        "colab": {
          "base_uri": "https://localhost:8080/"
        },
        "id": "PJ8us3Y_9SAZ",
        "outputId": "3d4d7e91-23be-4573-ec99-caf189c40d8d"
      },
      "outputs": [],
      "source": [
        "from sklearn.linear_model import LogisticRegression\n",
        "from sklearn.model_selection import cross_validate\n",
        "from sklearn.metrics import accuracy_score, make_scorer, roc_auc_score\n",
        "from sklearn.metrics import classification_report\n",
        "\n",
        "\n",
        "# Modelo LR con hiperparametros elegidos en base a pruebas anteriores\n",
        "\n",
        "\n",
        "LR = LogisticRegression(C=0.1, max_iter=1000, solver='newton-cg')\n",
        "\n",
        "\n",
        "# Define the scoring metrics for cross-validation\n",
        "scoring = {\n",
        "    'accuracy': make_scorer(accuracy_score),\n",
        "    'AUC': 'roc_auc'\n",
        "}\n",
        "\n",
        "# Perform cross-validation and save the fitted estimators\n",
        "cv_results = cross_validate(LR, X_train_res, y_train_res, scoring=scoring, n_jobs=1, verbose=1, return_train_score=True, return_estimator=True)\n",
        "\n",
        "# Initialize an empty list to store the coefficients\n",
        "coefs = []\n",
        "\n",
        "# Iterate through the fitted estimators and extract the coefficients\n",
        "for estimator in cv_results['estimator']:\n",
        "    coefs.append(estimator.coef_.ravel())\n",
        "\n",
        "# Convert the list of coefficients to a NumPy array\n",
        "coefs_array = np.array(coefs)\n",
        "\n",
        "# Transpose the array so that each column represents a set of coefficients from one iteration of CV\n",
        "# coefs_array = coefs_array.T\n",
        "\n",
        "# Convert the array to a DataFrame\n",
        "coefs_df = pd.DataFrame(coefs_array)\n",
        "\n",
        "# Save the DataFrame to an Excel file\n",
        "coefs_df.to_excel('coeficientes_cv.xlsx', index=False)\n",
        "\n",
        "# Print the average accuracy and AUC scores from cross-validation\n",
        "print(f\"Average Accuracy: {cv_results['test_accuracy'].mean()}\")\n",
        "print(f\"Average AUC: {cv_results['test_AUC'].mean()}\")\n",
        "\n",
        "\n",
        "\n",
        "\n",
        "# Encontrar el índice del mejor modelo\n",
        "best_index = np.argmax(cv_results['test_accuracy'])\n",
        "\n",
        "# Seleccionar el mejor modelo\n",
        "best_model = cv_results['estimator'][best_index]\n",
        "\n",
        "# Aplicar predict_proba en el conjunto de prueba\n",
        "probabilities = best_model.predict_proba(X_test)\n",
        "\n",
        "# Predice las etiquetas del conjunto de prueba\n",
        "y_pred = best_model.predict(X_test)\n",
        "\n",
        "\n",
        "# Informe de clasificación\n",
        "report = classification_report(y_test, y_pred, output_dict=True)\n",
        "\n",
        "# Resultados\n",
        "result = {\n",
        "    'Model': best_model,\n",
        "    'Accuracy': cv_results['test_accuracy'][best_index],\n",
        "    'Classification Report': report,\n",
        "    'Predictions Probabilities': probabilities\n",
        "}\n",
        "\n",
        "print(\"Model:\", result['Model'])\n",
        "print(\"Accuracy:\", result['Accuracy'])\n",
        "print(\"Classification Report:\", result['Classification Report'])\n",
        "\n",
        "# print(result)\n"
      ]
    },
    {
      "cell_type": "code",
      "execution_count": null,
      "metadata": {
        "colab": {
          "base_uri": "https://localhost:8080/",
          "height": 484
        },
        "id": "hceV_dGs9SAb",
        "outputId": "22b3b9da-5bd7-45a6-d8dd-c0c5a8521cb0"
      },
      "outputs": [],
      "source": [
        "# Matriz de confusión con las predicciónes del mejor modelo obtenido\n",
        "conf_mat = confusion_matrix(y_test, y_pred)\n",
        "print(conf_mat)\n",
        "sns.heatmap(conf_mat, annot = True, fmt = 'd', cmap= 'Blues')\n",
        "plt.xlabel('Predicciones del modelo')\n",
        "plt.ylabel('Condición real')\n",
        "plt.show()"
      ]
    },
    {
      "cell_type": "code",
      "execution_count": null,
      "metadata": {
        "colab": {
          "base_uri": "https://localhost:8080/",
          "height": 472
        },
        "id": "EU0Gw3Pc9SAc",
        "outputId": "5ec9bb45-3724-4cf6-a61f-f1dc9b244b04"
      },
      "outputs": [],
      "source": [
        "from sklearn.metrics import roc_curve, auc\n",
        "\n",
        "y_score = probabilities[:, 1]\n",
        "\n",
        "# Calcular los valores de tasa de verdaderos positivos (TPR), tasa de falsos positivos (FPR) y los umbrales\n",
        "fpr, tpr, thresholds = roc_curve(y_test, y_score)\n",
        "\n",
        "# Calcular el área bajo la curva ROC (AUC)\n",
        "roc_auc = auc(fpr, tpr)\n",
        "\n",
        "# Graficar la curva ROC\n",
        "plt.figure()\n",
        "plt.plot(fpr, tpr, color='darkorange', lw=2, label='ROC curve (area = %0.2f)' % roc_auc)\n",
        "plt.plot([0, 1], [0, 1], color='navy', lw=2, linestyle='--')\n",
        "plt.xlim([0.0, 1.0])\n",
        "plt.ylim([0.0, 1.05])\n",
        "plt.xlabel('False Positive Rate')\n",
        "plt.ylabel('True Positive Rate')\n",
        "plt.title('Receiver Operating Characteristic')\n",
        "plt.legend(loc=\"lower right\")\n",
        "plt.show()"
      ]
    },
    {
      "cell_type": "code",
      "execution_count": null,
      "metadata": {
        "colab": {
          "base_uri": "https://localhost:8080/",
          "height": 256
        },
        "id": "JUJfvM8d9SAc",
        "outputId": "31967656-cd5c-4c38-c822-2d4829acc8c3"
      },
      "outputs": [],
      "source": [
        "coefs_df"
      ]
    },
    {
      "cell_type": "code",
      "execution_count": null,
      "metadata": {
        "id": "VYD38SYGdHpe"
      },
      "outputs": [],
      "source": [
        "results_df = add_model_results(results_df, best_model, report, cv_results['test_accuracy'][best_index], cv_results['test_AUC'].mean())"
      ]
    },
    {
      "cell_type": "code",
      "execution_count": null,
      "metadata": {
        "colab": {
          "base_uri": "https://localhost:8080/",
          "height": 164
        },
        "id": "iC4t72JgdKL2",
        "outputId": "a0d9345e-e134-4579-a7a0-edfd657ff098"
      },
      "outputs": [],
      "source": [
        "results_df.head()"
      ]
    },
    {
      "cell_type": "code",
      "execution_count": null,
      "metadata": {
        "id": "0hK0bMAsdVMU"
      },
      "outputs": [],
      "source": [
        "results_df.to_csv('results_2', index=False)"
      ]
    },
    {
      "cell_type": "code",
      "execution_count": null,
      "metadata": {
        "id": "OlxFjkNLLZn3"
      },
      "outputs": [],
      "source": []
    },
    {
      "cell_type": "code",
      "execution_count": null,
      "metadata": {
        "id": "YetgsTO_ddKf"
      },
      "outputs": [],
      "source": [
        "# Copiar nombres de columnas desde `df` excluyendo 'condicion' si es aplicable\n",
        "coefs_df.columns = df.columns[:-1]  # Excluye 'condicion' si `df` incluye esta columna\n",
        "coefs_df.to_csv('coefs_2', index=False)"
      ]
    },
    {
      "cell_type": "code",
      "execution_count": null,
      "metadata": {
        "colab": {
          "base_uri": "https://localhost:8080/",
          "height": 451
        },
        "id": "6OyHuJu7ddKg",
        "outputId": "729b7b9d-7f6d-41a0-b071-5d865b3d04c2"
      },
      "outputs": [],
      "source": [
        "# https://forecastegy.com/posts/feature-importance-in-logistic-regression/\n",
        "# Convertir la lista de coeficientes en una matriz\n",
        "coefs_matrix = np.array(coefs_df)\n",
        "\n",
        "# Calcular la mediana para cada columna\n",
        "median_coefs = np.median(coefs_matrix, axis=0)\n",
        "\n",
        "# Los coeficientes representan el cambio en el logaritmo de odds por un incremento unitario en la característica correspondiente,\n",
        "# y por lo tanto, su magnitud (ignorando el signo) puede interpretarse como la \"importancia\" de la característica en la predicción del modelo.\n",
        "\n",
        "# Crear DataFrame de importancias\n",
        "feature_importances = pd.DataFrame({\n",
        "    'Feature': coefs_df.columns,  # TBD corroborar que realmente se mantenga el orden original\n",
        "    'Importance': np.abs(median_coefs)\n",
        "})\n",
        "\n",
        "# Ordenar las características por importancia\n",
        "sorted_feature_importances = feature_importances.sort_values(by='Importance', ascending=False)\n",
        "# Extraer las 10 características más importantes con sus importancias\n",
        "top_10_features = sorted_feature_importances.head(10)\n",
        "\n",
        "top_10_features.to_csv('top_10_features_2.csv', index=False)\n",
        "files.download('top_10_features_2.csv')\n",
        "\n",
        "# Visualizar las importancias ordenadas\n",
        "print(sorted_feature_importances)\n",
        "print(top_10_features)"
      ]
    },
    {
      "cell_type": "code",
      "execution_count": null,
      "metadata": {
        "colab": {
          "base_uri": "https://localhost:8080/",
          "height": 805
        },
        "id": "XkIcs2F8ddKi",
        "outputId": "2a8832a6-08a4-4fa5-da5c-cae26964b495"
      },
      "outputs": [],
      "source": [
        "# Configurar el tamaño y estilo del gráfico\n",
        "plt.figure(figsize=(10, 8))\n",
        "sns.barplot(x='Importance', y='Feature', data=top_10_features, palette='viridis')\n",
        "\n",
        "# Títulos y etiquetas\n",
        "plt.title('Top 10 Most Important Features')\n",
        "plt.xlabel('Importance (Median Absolute Coefficient)')\n",
        "plt.ylabel('Features')\n",
        "\n",
        "# Mostrar el gráfico\n",
        "plt.show()"
      ]
    },
    {
      "cell_type": "code",
      "execution_count": null,
      "metadata": {
        "colab": {
          "base_uri": "https://localhost:8080/",
          "height": 1000
        },
        "id": "94wTLvJeddKl",
        "outputId": "c1731057-c273-42e0-ebdb-98794c9f0dfa"
      },
      "outputs": [],
      "source": [
        "plt.figure(figsize=(15, 20))\n",
        "\n",
        "for i, feature in enumerate(top_10_features['Feature']):\n",
        "    plt.subplot(5, 2, i + 1)\n",
        "    # Filtrar los datos para autistas y controles para la característica actual\n",
        "    autistas = df[df['condicion'] == 1][feature]\n",
        "    controles = df[df['condicion'] == 0][feature]\n",
        "\n",
        "    # Graficar la distribución de los autistas\n",
        "    sns.kdeplot(autistas, label='Autistas', color='red', fill=True)\n",
        "    # Graficar la distribución de los controles\n",
        "    sns.kdeplot(controles, label='Controles', color='blue', fill=True)\n",
        "\n",
        "    # Configuraciones del título y leyenda del gráfico\n",
        "    plt.title(f'Distribución de {feature}')\n",
        "    plt.xlabel('Valor')\n",
        "    plt.ylabel('Densidad')\n",
        "    plt.legend()\n",
        "\n",
        "plt.tight_layout()\n",
        "plt.show()\n"
      ]
    },
    {
      "cell_type": "code",
      "execution_count": null,
      "metadata": {
        "colab": {
          "base_uri": "https://localhost:8080/",
          "height": 1000
        },
        "id": "bIgnokn8ddKn",
        "outputId": "75b1302c-4288-47ba-9226-2aea98040adf"
      },
      "outputs": [],
      "source": [
        "import matplotlib.pyplot as plt\n",
        "import seaborn as sns\n",
        "\n",
        "plt.figure(figsize=(15, 20))\n",
        "\n",
        "for i, feature in enumerate(top_10_features['Feature']):\n",
        "    plt.subplot(5, 2, i + 1)\n",
        "\n",
        "    autistas = df[df['condicion'] == 1][feature]\n",
        "    controles = df[df['condicion'] == 0][feature]\n",
        "\n",
        "    sns.kdeplot(autistas, color='red', fill=True)\n",
        "    sns.kdeplot(controles, color='blue', fill=True)\n",
        "\n",
        "    # Quita los bordes del gráfico\n",
        "    sns.despine(left=True, bottom=True)\n",
        "\n",
        "    # Elimina los ticks de los ejes\n",
        "    plt.xticks([])\n",
        "    plt.yticks([])\n",
        "\n",
        "    # Sin título ni etiquetas de eje\n",
        "    # plt.title(feature)  # Omitido para no incluir títulos\n",
        "    # plt.xlabel(feature)  # Omitido para no incluir etiquetas en el eje X\n",
        "\n",
        "plt.tight_layout()\n",
        "plt.show()\n",
        "\n",
        "\n",
        "# Guardar la imagen con fondo transparente\n",
        "plt.savefig('distr_2.png', transparent=True)\n",
        "\n",
        "# Descargar la imagen a tu computadora\n",
        "files.download('distr_2.png')"
      ]
    },
    {
      "cell_type": "code",
      "execution_count": null,
      "metadata": {
        "id": "SQbSbVGLLZgT"
      },
      "outputs": [],
      "source": []
    },
    {
      "cell_type": "code",
      "execution_count": null,
      "metadata": {
        "id": "yM8aSqg_LZbs"
      },
      "outputs": [],
      "source": []
    },
    {
      "cell_type": "markdown",
      "metadata": {
        "id": "CgVXm83782Ym"
      },
      "source": [
        "# Logistic Regression with SMOTE and Stratified Shuffle Split"
      ]
    },
    {
      "cell_type": "code",
      "execution_count": null,
      "metadata": {
        "colab": {
          "base_uri": "https://localhost:8080/"
        },
        "id": "rs-xY9P0Fwj6",
        "outputId": "6089aba5-f580-4112-d2d4-b02a4e1a5faa"
      },
      "outputs": [],
      "source": [
        "from sklearn.linear_model import LogisticRegression\n",
        "from sklearn.model_selection import cross_validate\n",
        "from sklearn.metrics import accuracy_score, make_scorer, roc_auc_score\n",
        "from sklearn.metrics import classification_report\n",
        "\n",
        "# Modelo LR con hiperparametros elegidos en base a pruebas anteriores\n",
        "LR = LogisticRegression(C=0.1, max_iter=1000, solver='newton-cg')\n",
        "\n",
        "# Define the scoring metrics for cross-validation\n",
        "scoring = {\n",
        "    'accuracy': make_scorer(accuracy_score),\n",
        "    'AUC': 'roc_auc'\n",
        "}\n",
        "\n",
        "# Perform cross-validation and save the fitted estimators\n",
        "cv_results = cross_validate(LR, X_train_res, y_train_res, scoring=scoring, cv=cv_generator, n_jobs=1, verbose=1, return_train_score=True, return_estimator=True)\n",
        "\n",
        "# Initialize an empty list to store the coefficients\n",
        "coefs = []\n",
        "\n",
        "# Iterate through the fitted estimators and extract the coefficients\n",
        "for estimator in cv_results['estimator']:\n",
        "    coefs.append(estimator.coef_.ravel())\n",
        "\n",
        "# Convert the list of coefficients to a NumPy array\n",
        "coefs_array = np.array(coefs)\n",
        "\n",
        "# Transpose the array so that each column represents a set of coefficients from one iteration of CV\n",
        "# coefs_array = coefs_array.T\n",
        "\n",
        "# Convert the array to a DataFrame\n",
        "coefs_df = pd.DataFrame(coefs_array)\n",
        "\n",
        "# Save the DataFrame to an Excel file\n",
        "coefs_df.to_excel('coeficientes_cv.xlsx', index=False)\n",
        "\n",
        "# Print the average accuracy and AUC scores from cross-validation\n",
        "print(f\"Average Accuracy: {cv_results['test_accuracy'].mean()}\")\n",
        "print(f\"Average AUC: {cv_results['test_AUC'].mean()}\")\n",
        "\n",
        "\n",
        "\n",
        "\n",
        "# Encontrar el índice del mejor modelo\n",
        "best_index = np.argmax(cv_results['test_accuracy'])\n",
        "\n",
        "# Seleccionar el mejor modelo\n",
        "best_model = cv_results['estimator'][best_index]\n",
        "\n",
        "# Aplicar predict_proba en el conjunto de prueba\n",
        "probabilities = best_model.predict_proba(X_test)\n",
        "\n",
        "# Predice las etiquetas del conjunto de prueba\n",
        "y_pred = best_model.predict(X_test)\n",
        "\n",
        "\n",
        "# Informe de clasificación\n",
        "report = classification_report(y_test, y_pred, output_dict=True)\n",
        "\n",
        "# Resultados\n",
        "result = {\n",
        "    'Model': best_model,\n",
        "    'Accuracy': cv_results['test_accuracy'][best_index],\n",
        "    'Classification Report': report,\n",
        "    'Predictions Probabilities': probabilities\n",
        "}\n",
        "\n",
        "\n",
        "\n"
      ]
    },
    {
      "cell_type": "code",
      "execution_count": null,
      "metadata": {
        "colab": {
          "base_uri": "https://localhost:8080/",
          "height": 484
        },
        "id": "fPRWucr6Sxpp",
        "outputId": "3d09935a-24f6-40e6-8636-82c03f3bead0"
      },
      "outputs": [],
      "source": [
        "# Matriz de confusión con las predicciónes del mejor modelo obtenido\n",
        "\n",
        "conf_mat = confusion_matrix(y_test, y_pred)\n",
        "print(conf_mat)\n",
        "sns.heatmap(conf_mat, annot = True, fmt = 'd', cmap= 'Blues')\n",
        "plt.xlabel('Predicciones del modelo')\n",
        "plt.ylabel('Condición real')\n",
        "plt.show()"
      ]
    },
    {
      "cell_type": "code",
      "execution_count": null,
      "metadata": {
        "colab": {
          "base_uri": "https://localhost:8080/",
          "height": 472
        },
        "id": "zVSFF5nBXShL",
        "outputId": "c9543f0b-e77b-4b74-b157-03de55213e74"
      },
      "outputs": [],
      "source": [
        "from sklearn.metrics import roc_curve, auc\n",
        "\n",
        "y_score = probabilities[:, 1]\n",
        "\n",
        "# Calcular los valores de tasa de verdaderos positivos (TPR), tasa de falsos positivos (FPR) y los umbrales\n",
        "fpr, tpr, thresholds = roc_curve(y_test, y_score)\n",
        "\n",
        "# Calcular el área bajo la curva ROC (AUC)\n",
        "roc_auc = auc(fpr, tpr)\n",
        "\n",
        "# Graficar la curva ROC\n",
        "plt.figure()\n",
        "plt.plot(fpr, tpr, color='darkorange', lw=2, label='ROC curve (area = %0.2f)' % roc_auc)\n",
        "plt.plot([0, 1], [0, 1], color='navy', lw=2, linestyle='--')\n",
        "plt.xlim([0.0, 1.0])\n",
        "plt.ylim([0.0, 1.05])\n",
        "plt.xlabel('False Positive Rate')\n",
        "plt.ylabel('True Positive Rate')\n",
        "plt.title('Receiver Operating Characteristic')\n",
        "plt.legend(loc=\"lower right\")\n",
        "plt.show()"
      ]
    },
    {
      "cell_type": "code",
      "execution_count": null,
      "metadata": {
        "colab": {
          "base_uri": "https://localhost:8080/",
          "height": 444
        },
        "id": "LTFzVl6DfmEE",
        "outputId": "f5978b09-8241-4626-e7c9-716c370c979f"
      },
      "outputs": [],
      "source": [
        "coefs_df"
      ]
    },
    {
      "cell_type": "code",
      "execution_count": null,
      "metadata": {
        "id": "FSB_DzghdjqQ"
      },
      "outputs": [],
      "source": []
    },
    {
      "cell_type": "code",
      "execution_count": null,
      "metadata": {
        "id": "8Rj7F6sjdu01"
      },
      "outputs": [],
      "source": [
        "\n",
        "results_df = add_model_results(results_df, best_model, report, cv_results['test_accuracy'][best_index], cv_results['test_AUC'].mean())"
      ]
    },
    {
      "cell_type": "code",
      "execution_count": null,
      "metadata": {
        "colab": {
          "base_uri": "https://localhost:8080/",
          "height": 213
        },
        "id": "yYPamEVedu1K",
        "outputId": "54330c27-0db7-4ab0-c858-0c693765b64c"
      },
      "outputs": [],
      "source": [
        "results_df.head()"
      ]
    },
    {
      "cell_type": "code",
      "execution_count": null,
      "metadata": {
        "id": "OqNxF_m5du1K"
      },
      "outputs": [],
      "source": [
        "results_df.to_csv('results_3', index=False)"
      ]
    },
    {
      "cell_type": "code",
      "execution_count": null,
      "metadata": {
        "id": "sE7xf-oXdjnn"
      },
      "outputs": [],
      "source": []
    },
    {
      "cell_type": "code",
      "execution_count": null,
      "metadata": {
        "id": "VenPng_HdjkP"
      },
      "outputs": [],
      "source": []
    },
    {
      "cell_type": "code",
      "execution_count": null,
      "metadata": {
        "id": "jsciXmBGdkKY"
      },
      "outputs": [],
      "source": [
        "# Copiar nombres de columnas desde `df` excluyendo 'condicion' si es aplicable\n",
        "coefs_df.columns = df.columns[:-1]  # Excluye 'condicion' si `df` incluye esta columna\n",
        "coefs_df.to_csv('coefs_3', index=False)"
      ]
    },
    {
      "cell_type": "code",
      "execution_count": null,
      "metadata": {
        "colab": {
          "base_uri": "https://localhost:8080/",
          "height": 451
        },
        "id": "ed1Se30mdkKZ",
        "outputId": "2f7402a3-2e18-4376-8e56-ddaaa9244cf9"
      },
      "outputs": [],
      "source": [
        "# https://forecastegy.com/posts/feature-importance-in-logistic-regression/\n",
        "# Convertir la lista de coeficientes en una matriz\n",
        "coefs_matrix = np.array(coefs_df)\n",
        "\n",
        "# Calcular la mediana para cada columna\n",
        "median_coefs = np.median(coefs_matrix, axis=0)\n",
        "\n",
        "# Los coeficientes representan el cambio en el logaritmo de odds por un incremento unitario en la característica correspondiente,\n",
        "# y por lo tanto, su magnitud (ignorando el signo) puede interpretarse como la \"importancia\" de la característica en la predicción del modelo.\n",
        "\n",
        "# Crear DataFrame de importancias\n",
        "feature_importances = pd.DataFrame({\n",
        "    'Feature': coefs_df.columns,  # TBD corroborar que realmente se mantenga el orden original\n",
        "    'Importance': np.abs(median_coefs)\n",
        "})\n",
        "\n",
        "# Ordenar las características por importancia\n",
        "sorted_feature_importances = feature_importances.sort_values(by='Importance', ascending=False)\n",
        "# Extraer las 10 características más importantes con sus importancias\n",
        "top_10_features = sorted_feature_importances.head(10)\n",
        "\n",
        "top_10_features.to_csv('top_10_features_3.csv', index=False)\n",
        "files.download('top_10_features_3.csv')\n",
        "\n",
        "# Visualizar las importancias ordenadas\n",
        "print(sorted_feature_importances)\n",
        "print(top_10_features)"
      ]
    },
    {
      "cell_type": "code",
      "execution_count": null,
      "metadata": {
        "colab": {
          "base_uri": "https://localhost:8080/",
          "height": 805
        },
        "id": "IrS86X-NdkKa",
        "outputId": "5aedc33f-a097-41ad-dd1e-19417e91a700"
      },
      "outputs": [],
      "source": [
        "# Configurar el tamaño y estilo del gráfico\n",
        "plt.figure(figsize=(10, 8))\n",
        "sns.barplot(x='Importance', y='Feature', data=top_10_features, palette='viridis')\n",
        "\n",
        "# Títulos y etiquetas\n",
        "plt.title('Top 10 Most Important Features')\n",
        "plt.xlabel('Importance (Median Absolute Coefficient)')\n",
        "plt.ylabel('Features')\n",
        "\n",
        "# Mostrar el gráfico\n",
        "plt.show()"
      ]
    },
    {
      "cell_type": "code",
      "execution_count": null,
      "metadata": {
        "colab": {
          "base_uri": "https://localhost:8080/",
          "height": 1000
        },
        "id": "0xSlFjGAdkKb",
        "outputId": "b02baeb4-f9d2-4467-cc45-4daf154a03c8"
      },
      "outputs": [],
      "source": [
        "plt.figure(figsize=(15, 20))\n",
        "\n",
        "for i, feature in enumerate(top_10_features['Feature']):\n",
        "    plt.subplot(5, 2, i + 1)\n",
        "    # Filtrar los datos para autistas y controles para la característica actual\n",
        "    autistas = df[df['condicion'] == 1][feature]\n",
        "    controles = df[df['condicion'] == 0][feature]\n",
        "\n",
        "    # Graficar la distribución de los autistas\n",
        "    sns.kdeplot(autistas, label='Autistas', color='red', fill=True)\n",
        "    # Graficar la distribución de los controles\n",
        "    sns.kdeplot(controles, label='Controles', color='blue', fill=True)\n",
        "\n",
        "    # Configuraciones del título y leyenda del gráfico\n",
        "    plt.title(f'Distribución de {feature}')\n",
        "    plt.xlabel('Valor')\n",
        "    plt.ylabel('Densidad')\n",
        "    plt.legend()\n",
        "\n",
        "plt.tight_layout()\n",
        "plt.show()\n",
        "\n",
        "plt.savefig('distr_3.png', transparent=True)\n"
      ]
    },
    {
      "cell_type": "code",
      "execution_count": null,
      "metadata": {
        "colab": {
          "base_uri": "https://localhost:8080/",
          "height": 1000
        },
        "id": "Sle-iJv9dkKd",
        "outputId": "3f21e10c-8b3b-4821-8e68-59bd3ecd4f51"
      },
      "outputs": [],
      "source": [
        "import matplotlib.pyplot as plt\n",
        "import seaborn as sns\n",
        "\n",
        "plt.figure(figsize=(15, 20))\n",
        "\n",
        "for i, feature in enumerate(top_10_features['Feature']):\n",
        "    plt.subplot(5, 2, i + 1)\n",
        "\n",
        "    autistas = df[df['condicion'] == 1][feature]\n",
        "    controles = df[df['condicion'] == 0][feature]\n",
        "\n",
        "    sns.kdeplot(autistas, color='red', fill=True)\n",
        "    sns.kdeplot(controles, color='blue', fill=True)\n",
        "\n",
        "    # Quita los bordes del gráfico\n",
        "    sns.despine(left=True, bottom=True)\n",
        "\n",
        "    # Elimina los ticks de los ejes\n",
        "    plt.xticks([])\n",
        "    plt.yticks([])\n",
        "\n",
        "    # Sin título ni etiquetas de eje\n",
        "    # plt.title(feature)  # Omitido para no incluir títulos\n",
        "    # plt.xlabel(feature)  # Omitido para no incluir etiquetas en el eje X\n",
        "\n",
        "plt.tight_layout()\n",
        "plt.show()\n",
        "\n",
        "plt.savefig('distr_3_simple.png', transparent=True)\n"
      ]
    }
  ],
  "metadata": {
    "colab": {
      "provenance": [],
      "toc_visible": true
    },
    "kernelspec": {
      "display_name": "Python 3",
      "name": "python3"
    },
    "language_info": {
      "name": "python"
    }
  },
  "nbformat": 4,
  "nbformat_minor": 0
}
